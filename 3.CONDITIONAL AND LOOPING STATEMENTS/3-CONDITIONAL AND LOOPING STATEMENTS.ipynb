{
 "cells": [
  {
   "cell_type": "markdown",
   "id": "1c5426c6-639f-497c-a897-a643b9885519",
   "metadata": {},
   "source": [
    "# Exercise 1"
   ]
  },
  {
   "cell_type": "code",
   "execution_count": 86,
   "id": "ada70a34-df8d-4a10-8d80-50667e3e392e",
   "metadata": {},
   "outputs": [
    {
     "name": "stdout",
     "output_type": "stream",
     "text": [
      "Enter the Month number: 3\n"
     ]
    },
    {
     "name": "stdout",
     "output_type": "stream",
     "text": [
      "month 3 is March\n"
     ]
    }
   ],
   "source": [
    "# Reads an integer value between 1 and 12 from the user and prints output the corresponding month of the year.\n",
    "\n",
    "months = { 1: \"January\", 2: \"February\", 3: \"March\", 4: \"April\", 5:\"May\", 6: \"June\", \n",
    "          7: \"July\", 8: \"August\", 9: \"September\", 10: \"October\", 11: \"November\", 12: \"December\"}\n",
    "\n",
    "month_number = int(input(\"Enter the Month number:\"))\n",
    "\n",
    "if 1<= month_number <=12:\n",
    "    print(f\"month {month_number} is {months[month_number]}\")\n",
    "    \n",
    "else:\n",
    "    print(\"Invalid Month Number !!, please enter between 1 to 12.\")"
   ]
  },
  {
   "cell_type": "markdown",
   "id": "7f1c7065-7c36-4325-836a-44f6e7e2ec23",
   "metadata": {},
   "source": [
    "# Exercise 2"
   ]
  },
  {
   "cell_type": "code",
   "execution_count": 88,
   "id": "cd341314-ce3a-4d88-bf86-f9fac5534bd9",
   "metadata": {},
   "outputs": [
    {
     "name": "stdout",
     "output_type": "stream",
     "text": [
      "Enter your age 63\n"
     ]
    },
    {
     "name": "stdout",
     "output_type": "stream",
     "text": [
      "Your ticket costs £2.0\n"
     ]
    }
   ],
   "source": [
    "# Calculating the Ticket price based on age, full price is 6 pounds, who are less than 16 years half price and third of the price for people who are 60 years old or more\n",
    "\n",
    "def calculate_ticket_price(age):\n",
    "    \n",
    "    full_price = 6 \n",
    "    \n",
    "    if age < 16:\n",
    "        return full_price / 2       \n",
    "    elif age >= 60:\n",
    "        return full_price / 3        \n",
    "    else:\n",
    "        return full_price\n",
    "        \n",
    "age = int(input(\"Enter your age\"))\n",
    "\n",
    "if age < 1:\n",
    "    print(\"Invalid age !!, Age cannot be less than 1 please enter a valid age.\")\n",
    "\n",
    "else :\n",
    "    ticket_price = calculate_ticket_price(age)\n",
    "    print(f\"Your ticket costs £{ticket_price}\")"
   ]
  },
  {
   "cell_type": "markdown",
   "id": "d5cdfd71-0b8c-4acc-a4b3-f6e55615d960",
   "metadata": {},
   "source": [
    "# Exercise 3"
   ]
  },
  {
   "cell_type": "code",
   "execution_count": 90,
   "id": "4d55650c-fe6a-4d37-ac8b-89317eeff762",
   "metadata": {},
   "outputs": [
    {
     "name": "stdout",
     "output_type": "stream",
     "text": [
      "Enter your weight in (Kg):  75\n",
      "Enter your height in (m):  1.70\n"
     ]
    },
    {
     "name": "stdout",
     "output_type": "stream",
     "text": [
      "Your BMI is: 25.95\n",
      "You are in the “OverWeight” range.\n"
     ]
    }
   ],
   "source": [
    "# Calculating BMI and give weight status\n",
    "\n",
    "def calculating_bmi(weight,height):\n",
    "    return weight / (height ** 2)\n",
    "\n",
    "def bmi_status(bmi):\n",
    "\n",
    "    if bmi < 18.5:\n",
    "        return \"UnderWeight\"\n",
    "    elif 18.5 <= bmi <= 24.9:\n",
    "        return \"Normal\"\n",
    "    elif 25 <= bmi <= 29.9:\n",
    "        return \"OverWeight\"\n",
    "    else:\n",
    "        return \"Obese\"\n",
    "\n",
    "weight = float(input(\"Enter your weight in (Kg): \"))\n",
    "height = float(input(\"Enter your height in (m): \"))\n",
    "\n",
    "bmi = calculating_bmi(weight,height)\n",
    "\n",
    "print(f\"Your BMI is: {bmi:.2f}\")\n",
    "\n",
    "status = bmi_status(bmi)\n",
    "\n",
    "\n",
    "print(f\"You are in the “{status}” range.\")"
   ]
  },
  {
   "cell_type": "markdown",
   "id": "afe7daac-1fa8-4dd5-b8a6-e8e4bda8b4ca",
   "metadata": {},
   "source": [
    "# Exercise 4"
   ]
  },
  {
   "cell_type": "code",
   "execution_count": 59,
   "id": "fe9db166-af05-42bd-8edd-f59e0bc24b0f",
   "metadata": {},
   "outputs": [
    {
     "name": "stdout",
     "output_type": "stream",
     "text": [
      "Enter the first number:  56\n",
      "Enter the second number: 80\n",
      "Enter the third number:  45\n"
     ]
    },
    {
     "name": "stdout",
     "output_type": "stream",
     "text": [
      "The greatest number is: 80\n"
     ]
    }
   ],
   "source": [
    "# print the greatest number from the user entered 3 numbers\n",
    "\n",
    "def greatest_number (num1,num2,num3):\n",
    "    \n",
    "    if num1 >= num2 and num1 >= num3:\n",
    "        return num1\n",
    "    elif num2 >= num1 and num2 >= num3:\n",
    "        return num2\n",
    "    else: \n",
    "        return num3\n",
    "\n",
    "num1 = float(input(\"Enter the first number: \"))\n",
    "num2 = float(input(\"Enter the second number:\"))\n",
    "num3 = float(input(\"Enter the third number: \"))\n",
    "\n",
    "greatest = greatest_number (num1,num2,num3)\n",
    "print(f\"The greatest number is: {greatest:.0f}\")\n"
   ]
  },
  {
   "cell_type": "markdown",
   "id": "82d3ab93-93ee-4b93-a5d2-37d70e647d1a",
   "metadata": {},
   "source": [
    "# Excercise 5"
   ]
  },
  {
   "cell_type": "code",
   "execution_count": 68,
   "id": "15f14559-99bb-4b55-bbbd-5c3ed215a36a",
   "metadata": {},
   "outputs": [
    {
     "name": "stdout",
     "output_type": "stream",
     "text": [
      "Enter a number to find its factorial:  5\n"
     ]
    },
    {
     "name": "stdout",
     "output_type": "stream",
     "text": [
      "The factorial of 5 is: 120\n"
     ]
    }
   ],
   "source": [
    "# Factorial of a given number using loops\n",
    "\n",
    "num = int(input(\"Enter a number to find its factorial: \"))\n",
    "\n",
    "factorial = 1\n",
    "for i in range(1, num + 1):\n",
    "    factorial *= i\n",
    "\n",
    "print(f\"The factorial of {num} is: {factorial}\")"
   ]
  },
  {
   "cell_type": "markdown",
   "id": "9ddf38db-c0a2-41d0-b4e0-bd9736cc0a54",
   "metadata": {},
   "source": [
    "# Excercise 6"
   ]
  },
  {
   "cell_type": "code",
   "execution_count": 71,
   "id": "35d973d4-c0cf-4b0e-ae1c-f4223b03267f",
   "metadata": {},
   "outputs": [
    {
     "name": "stdout",
     "output_type": "stream",
     "text": [
      "Enter a number:  123456\n"
     ]
    },
    {
     "name": "stdout",
     "output_type": "stream",
     "text": [
      "The reversed number is: 654321\n"
     ]
    }
   ],
   "source": [
    "# Reverse a number using while loop\n",
    "\n",
    "num = int(input(\"Enter a number: \"))\n",
    "\n",
    "reversed_num = 0\n",
    "while num > 0:\n",
    "    digit = num % 10\n",
    "    reversed_num = reversed_num * 10 + digit\n",
    "    num //= 10\n",
    "\n",
    "print(f\"The reversed number is: {reversed_num}\")"
   ]
  },
  {
   "cell_type": "markdown",
   "id": "0089b605-b629-488f-8713-99a6d19dc29f",
   "metadata": {},
   "source": [
    "# Excercise 7"
   ]
  },
  {
   "cell_type": "code",
   "execution_count": 74,
   "id": "c33c9bbb-0a38-4fb4-83bd-39b942c5734c",
   "metadata": {},
   "outputs": [
    {
     "name": "stdout",
     "output_type": "stream",
     "text": [
      "Enter a number:  10\n",
      "Enter the limit:  50\n"
     ]
    },
    {
     "name": "stdout",
     "output_type": "stream",
     "text": [
      "The multiples of 10 up to 50 are:\n",
      "10\n",
      "20\n",
      "30\n",
      "40\n",
      "50\n"
     ]
    }
   ],
   "source": [
    "# Finding the multiple of a number using loop\n",
    "\n",
    "num = int(input(\"Enter a number: \"))\n",
    "limit = int(input(\"Enter the limit: \"))\n",
    "\n",
    "\n",
    "print(f\"The multiples of {num} up to {limit} are:\")\n",
    "for i in range(1, limit + 1):\n",
    "    multiple = num * i\n",
    "    if multiple <= limit:\n",
    "        print(multiple)"
   ]
  },
  {
   "cell_type": "markdown",
   "id": "236a955e-c209-476e-96a0-c3b54a2fc137",
   "metadata": {},
   "source": [
    "# Excercise 8"
   ]
  },
  {
   "cell_type": "code",
   "execution_count": 77,
   "id": "3af9ab3e-5c62-44e0-aa6c-7054e5974774",
   "metadata": {},
   "outputs": [
    {
     "name": "stdout",
     "output_type": "stream",
     "text": [
      "Enter a value:  hello there\n",
      "Enter a value:  finished\n",
      "Enter a value:  done\n"
     ]
    },
    {
     "name": "stdout",
     "output_type": "stream",
     "text": [
      "Done\n"
     ]
    }
   ],
   "source": [
    "# Print the inputted value as it is and break the loop if the value is \"done\"\n",
    "\n",
    "while True:\n",
    "  \n",
    "    user_input = input(\"Enter a value: \")\n",
    "\n",
    "    if user_input.lower() == 'done':\n",
    "        print(\"Done\")\n",
    "        break"
   ]
  },
  {
   "cell_type": "markdown",
   "id": "8f94b24e-b8b8-4a1c-b403-a2a0aff24e3e",
   "metadata": {},
   "source": [
    "# Excercise 9"
   ]
  },
  {
   "cell_type": "code",
   "execution_count": 80,
   "id": "5623c7b0-6c71-4ea2-8a8b-bc229ae89c68",
   "metadata": {},
   "outputs": [
    {
     "name": "stdout",
     "output_type": "stream",
     "text": [
      "1\n",
      "2\n",
      "Fizz\n",
      "4\n",
      "Buzz\n",
      "Fizz\n",
      "7\n",
      "8\n",
      "Fizz\n",
      "Buzz\n"
     ]
    }
   ],
   "source": [
    "# prints the numbers from 1 to 10. But for multiples of three print \"Fizz\" instead of the number and for the multiple of five print \"Buzz\". For numbers which are multiples of both three and five print \"FizzBuzz\"\n",
    "\n",
    "for i in range(1, 11):\n",
    "    if i % 3 == 0 and i % 5 == 0:\n",
    "        print(\"FizzBuzz\")\n",
    "    elif i % 3 == 0:\n",
    "        print(\"Fizz\")\n",
    "    elif i % 5 == 0:\n",
    "        print(\"Buzz\")\n",
    "    else:\n",
    "        print(i)"
   ]
  },
  {
   "cell_type": "markdown",
   "id": "071afabd-6a49-4550-b479-94302b574660",
   "metadata": {},
   "source": [
    "# Excercise 10"
   ]
  },
  {
   "cell_type": "code",
   "execution_count": 84,
   "id": "c381e0b5-949a-4080-aa95-742d360f474a",
   "metadata": {},
   "outputs": [
    {
     "name": "stdout",
     "output_type": "stream",
     "text": [
      "5 4 3 2 1 \n",
      "4 3 2 1 \n",
      "3 2 1 \n",
      "2 1 \n",
      "1 \n"
     ]
    }
   ],
   "source": [
    "# pattern printing\n",
    "\n",
    "for i in range(5, 0, -1):\n",
    "    for j in range(i, 0, -1):\n",
    "        print(j, end=\" \")\n",
    "    print()"
   ]
  },
  {
   "cell_type": "code",
   "execution_count": null,
   "id": "cfb518af-5207-46a0-bc5a-5c78765ef542",
   "metadata": {},
   "outputs": [],
   "source": []
  }
 ],
 "metadata": {
  "kernelspec": {
   "display_name": "Python [conda env:base] *",
   "language": "python",
   "name": "conda-base-py"
  },
  "language_info": {
   "codemirror_mode": {
    "name": "ipython",
    "version": 3
   },
   "file_extension": ".py",
   "mimetype": "text/x-python",
   "name": "python",
   "nbconvert_exporter": "python",
   "pygments_lexer": "ipython3",
   "version": "3.12.7"
  }
 },
 "nbformat": 4,
 "nbformat_minor": 5
}
