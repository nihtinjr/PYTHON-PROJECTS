{
 "cells": [
  {
   "cell_type": "markdown",
   "id": "7de24354-9dee-447d-a03f-5c538e86def9",
   "metadata": {},
   "source": [
    "# Lists"
   ]
  },
  {
   "cell_type": "code",
   "execution_count": 2,
   "id": "213e7d42-3fdc-43f8-8367-f592f848e1d8",
   "metadata": {},
   "outputs": [
    {
     "name": "stdout",
     "output_type": "stream",
     "text": [
      "List of random numbers: [36, 11, 17, 33, 29]\n"
     ]
    }
   ],
   "source": [
    "# Q1. Create a list of 5 random numbers and print the list\n",
    "\n",
    "import random\n",
    "random_list = [random.randint(1,50) for _ in range(5)]\n",
    "print(\"List of random numbers:\",random_list)"
   ]
  },
  {
   "cell_type": "code",
   "execution_count": 3,
   "id": "51fc6120-6fb6-4518-b5ec-21cc689d7df7",
   "metadata": {},
   "outputs": [
    {
     "name": "stdout",
     "output_type": "stream",
     "text": [
      "Updated list: [30, 46, 32, 4, 3, 105, 126, 166]\n"
     ]
    }
   ],
   "source": [
    "# Q2. Insert 3 new values to the list and print the updated list\n",
    "\n",
    "random_list = [random.randint(1,50) for _ in range(5)]\n",
    "random_list.extend([105,126,166])\n",
    "print(\"Updated list:\",random_list)\n"
   ]
  },
  {
   "cell_type": "code",
   "execution_count": 4,
   "id": "4737d126-76e5-458d-ba5c-68f74a9bb983",
   "metadata": {},
   "outputs": [
    {
     "name": "stdout",
     "output_type": "stream",
     "text": [
      "30\n",
      "46\n",
      "32\n",
      "4\n",
      "3\n",
      "105\n",
      "126\n",
      "166\n"
     ]
    }
   ],
   "source": [
    "# Q3. Use a for loop to print each element in the list\n",
    "\n",
    "for num in random_list:\n",
    "    print(num)"
   ]
  },
  {
   "cell_type": "markdown",
   "id": "bd3f0f17-5873-4c79-ba70-85a86a12ec43",
   "metadata": {},
   "source": [
    "# Dictionary"
   ]
  },
  {
   "cell_type": "code",
   "execution_count": 5,
   "id": "bd3983c2-9b2b-4c54-9b67-52dcecd6749c",
   "metadata": {},
   "outputs": [
    {
     "name": "stdout",
     "output_type": "stream",
     "text": [
      "Dictionary: {'name': 'John', 'age': 25, 'address': 'New york'}\n"
     ]
    }
   ],
   "source": [
    "# Q1. Create a dictionary with given keys and values\n",
    "\n",
    "person_details = {'name' : 'John', 'age' : 25, 'address' : 'New york'}\n",
    "print(\"Dictionary:\",person_details)"
   ]
  },
  {
   "cell_type": "code",
   "execution_count": 6,
   "id": "d8835d5b-766e-4210-81d0-aa5b32fdd198",
   "metadata": {},
   "outputs": [
    {
     "name": "stdout",
     "output_type": "stream",
     "text": [
      "Updated dictionary: {'name': 'John', 'age': 25, 'address': 'New york', 'phone': '1234567890'}\n"
     ]
    }
   ],
   "source": [
    "# Q2. Add a new key value pair to created dictionary\n",
    "\n",
    "person_details['phone'] = '1234567890'\n",
    "print(\"Updated dictionary:\" ,person_details)"
   ]
  },
  {
   "cell_type": "markdown",
   "id": "d63d4065-14d2-4b59-9252-771dddb62729",
   "metadata": {},
   "source": [
    "# Set"
   ]
  },
  {
   "cell_type": "code",
   "execution_count": 7,
   "id": "ca1e2d3f-34e6-4c52-a507-b7b7a6dd3e15",
   "metadata": {},
   "outputs": [
    {
     "name": "stdout",
     "output_type": "stream",
     "text": [
      "Set: {1, 2, 3, 4, 5}\n"
     ]
    }
   ],
   "source": [
    "# Q1. Create a set with values 1,2,3,4, and 5\n",
    "\n",
    "numbers_set = {1, 2, 3, 4, 5}\n",
    "print(\"Set:\", numbers_set)"
   ]
  },
  {
   "cell_type": "code",
   "execution_count": 8,
   "id": "c5e76878-001a-42ef-98c9-3cfdb6c6483a",
   "metadata": {},
   "outputs": [
    {
     "name": "stdout",
     "output_type": "stream",
     "text": [
      "Updated Set: {1, 2, 3, 4, 5, 6}\n"
     ]
    }
   ],
   "source": [
    "# Q2. Add the value 6 to the created set\n",
    "\n",
    "numbers_set.add(6)\n",
    "print(\"Updated Set:\", numbers_set)"
   ]
  },
  {
   "cell_type": "code",
   "execution_count": 9,
   "id": "3d653ae7-93ca-44e8-a8bc-e69230478ddf",
   "metadata": {},
   "outputs": [
    {
     "name": "stdout",
     "output_type": "stream",
     "text": [
      "Set after removing: {1, 2, 4, 5, 6}\n"
     ]
    }
   ],
   "source": [
    "# Q3. Remove the value 3 from the set created\n",
    "\n",
    "numbers_set.remove(3)\n",
    "print(\"Set after removing:\", numbers_set)"
   ]
  },
  {
   "cell_type": "markdown",
   "id": "cd9e768d-6bbc-4f4a-a788-2ccd9e0e3adb",
   "metadata": {},
   "source": [
    "# Tuple"
   ]
  },
  {
   "cell_type": "code",
   "execution_count": 10,
   "id": "789ea52c-dbae-47d3-a248-67c4ffddc323",
   "metadata": {},
   "outputs": [
    {
     "name": "stdout",
     "output_type": "stream",
     "text": [
      "Tuple: (1, 2, 3, 4)\n"
     ]
    }
   ],
   "source": [
    "# Q1. Create tuple with values 1,2,3, and 4\n",
    "\n",
    "numbers_tuple = (1, 2, 3, 4)\n",
    "print(\"Tuple:\", numbers_tuple)"
   ]
  },
  {
   "cell_type": "code",
   "execution_count": 11,
   "id": "7f5236bf-1880-43e0-8dd3-6bdc0fefcd86",
   "metadata": {},
   "outputs": [
    {
     "name": "stdout",
     "output_type": "stream",
     "text": [
      "Lenght of Tuple: 4\n"
     ]
    }
   ],
   "source": [
    "# Q2. print the length of tuple created\n",
    "\n",
    "print(\"Lenght of Tuple:\",len(numbers_tuple))"
   ]
  }
 ],
 "metadata": {
  "kernelspec": {
   "display_name": "base",
   "language": "python",
   "name": "python3"
  },
  "language_info": {
   "codemirror_mode": {
    "name": "ipython",
    "version": 3
   },
   "file_extension": ".py",
   "mimetype": "text/x-python",
   "name": "python",
   "nbconvert_exporter": "python",
   "pygments_lexer": "ipython3",
   "version": "3.12.7"
  }
 },
 "nbformat": 4,
 "nbformat_minor": 5
}
